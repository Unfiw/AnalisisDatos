{
 "cells": [
  {
   "cell_type": "markdown",
   "id": "b2694b37-bebd-41f3-95df-881a55e6ad15",
   "metadata": {},
   "source": [
    "# Actividad"
   ]
  },
  {
   "cell_type": "markdown",
   "id": "b4db7387-2b6b-43a5-8b59-9935a3053291",
   "metadata": {},
   "source": [
    "## Importación de libreria"
   ]
  },
  {
   "cell_type": "code",
   "execution_count": 69,
   "id": "3e34f768-1adb-4a81-9f7a-91b0dfc66197",
   "metadata": {},
   "outputs": [],
   "source": [
    "import pandas as pd"
   ]
  },
  {
   "cell_type": "markdown",
   "id": "dba9cd93-92b1-413a-a26b-72eb0d658c1a",
   "metadata": {},
   "source": [
    "## Lectura de Datos"
   ]
  },
  {
   "cell_type": "code",
   "execution_count": 104,
   "id": "445e0bf7-1db2-427a-8c49-4bed067f24fe",
   "metadata": {},
   "outputs": [],
   "source": [
    "df = pd.read_csv('vgchartz-2024.csv')\n",
    "df.to_csv(\"vg.csv\", index=False)"
   ]
  },
  {
   "cell_type": "markdown",
   "id": "b8774cec-710c-4832-9b66-68553b64905a",
   "metadata": {},
   "source": [
    "## Inspección del archivo"
   ]
  },
  {
   "cell_type": "code",
   "execution_count": 73,
   "id": "3c6f7bcf-8c89-4e9e-8c77-da46751a7585",
   "metadata": {},
   "outputs": [
    {
     "data": {
      "text/html": [
       "<div>\n",
       "<style scoped>\n",
       "    .dataframe tbody tr th:only-of-type {\n",
       "        vertical-align: middle;\n",
       "    }\n",
       "\n",
       "    .dataframe tbody tr th {\n",
       "        vertical-align: top;\n",
       "    }\n",
       "\n",
       "    .dataframe thead th {\n",
       "        text-align: right;\n",
       "    }\n",
       "</style>\n",
       "<table border=\"1\" class=\"dataframe\">\n",
       "  <thead>\n",
       "    <tr style=\"text-align: right;\">\n",
       "      <th></th>\n",
       "      <th>img</th>\n",
       "      <th>title</th>\n",
       "      <th>console</th>\n",
       "      <th>genre</th>\n",
       "      <th>publisher</th>\n",
       "      <th>developer</th>\n",
       "      <th>critic_score</th>\n",
       "      <th>total_sales</th>\n",
       "      <th>na_sales</th>\n",
       "      <th>jp_sales</th>\n",
       "      <th>pal_sales</th>\n",
       "      <th>other_sales</th>\n",
       "      <th>release_date</th>\n",
       "      <th>last_update</th>\n",
       "    </tr>\n",
       "  </thead>\n",
       "  <tbody>\n",
       "    <tr>\n",
       "      <th>0</th>\n",
       "      <td>/games/boxart/full_6510540AmericaFrontccc.jpg</td>\n",
       "      <td>Grand Theft Auto V</td>\n",
       "      <td>PS3</td>\n",
       "      <td>Action</td>\n",
       "      <td>Rockstar Games</td>\n",
       "      <td>Rockstar North</td>\n",
       "      <td>9.4</td>\n",
       "      <td>20.32</td>\n",
       "      <td>6.37</td>\n",
       "      <td>0.99</td>\n",
       "      <td>9.85</td>\n",
       "      <td>3.12</td>\n",
       "      <td>2013-09-17</td>\n",
       "      <td>NaN</td>\n",
       "    </tr>\n",
       "    <tr>\n",
       "      <th>1</th>\n",
       "      <td>/games/boxart/full_5563178AmericaFrontccc.jpg</td>\n",
       "      <td>Grand Theft Auto V</td>\n",
       "      <td>PS4</td>\n",
       "      <td>Action</td>\n",
       "      <td>Rockstar Games</td>\n",
       "      <td>Rockstar North</td>\n",
       "      <td>9.7</td>\n",
       "      <td>19.39</td>\n",
       "      <td>6.06</td>\n",
       "      <td>0.60</td>\n",
       "      <td>9.71</td>\n",
       "      <td>3.02</td>\n",
       "      <td>2014-11-18</td>\n",
       "      <td>2018-01-03</td>\n",
       "    </tr>\n",
       "    <tr>\n",
       "      <th>2</th>\n",
       "      <td>/games/boxart/827563ccc.jpg</td>\n",
       "      <td>Grand Theft Auto: Vice City</td>\n",
       "      <td>PS2</td>\n",
       "      <td>Action</td>\n",
       "      <td>Rockstar Games</td>\n",
       "      <td>Rockstar North</td>\n",
       "      <td>9.6</td>\n",
       "      <td>16.15</td>\n",
       "      <td>8.41</td>\n",
       "      <td>0.47</td>\n",
       "      <td>5.49</td>\n",
       "      <td>1.78</td>\n",
       "      <td>2002-10-28</td>\n",
       "      <td>NaN</td>\n",
       "    </tr>\n",
       "    <tr>\n",
       "      <th>3</th>\n",
       "      <td>/games/boxart/full_9218923AmericaFrontccc.jpg</td>\n",
       "      <td>Grand Theft Auto V</td>\n",
       "      <td>X360</td>\n",
       "      <td>Action</td>\n",
       "      <td>Rockstar Games</td>\n",
       "      <td>Rockstar North</td>\n",
       "      <td>NaN</td>\n",
       "      <td>15.86</td>\n",
       "      <td>9.06</td>\n",
       "      <td>0.06</td>\n",
       "      <td>5.33</td>\n",
       "      <td>1.42</td>\n",
       "      <td>2013-09-17</td>\n",
       "      <td>NaN</td>\n",
       "    </tr>\n",
       "    <tr>\n",
       "      <th>4</th>\n",
       "      <td>/games/boxart/full_4990510AmericaFrontccc.jpg</td>\n",
       "      <td>Call of Duty: Black Ops 3</td>\n",
       "      <td>PS4</td>\n",
       "      <td>Shooter</td>\n",
       "      <td>Activision</td>\n",
       "      <td>Treyarch</td>\n",
       "      <td>8.1</td>\n",
       "      <td>15.09</td>\n",
       "      <td>6.18</td>\n",
       "      <td>0.41</td>\n",
       "      <td>6.05</td>\n",
       "      <td>2.44</td>\n",
       "      <td>2015-11-06</td>\n",
       "      <td>2018-01-14</td>\n",
       "    </tr>\n",
       "  </tbody>\n",
       "</table>\n",
       "</div>"
      ],
      "text/plain": [
       "                                             img                        title  \\\n",
       "0  /games/boxart/full_6510540AmericaFrontccc.jpg           Grand Theft Auto V   \n",
       "1  /games/boxart/full_5563178AmericaFrontccc.jpg           Grand Theft Auto V   \n",
       "2                    /games/boxart/827563ccc.jpg  Grand Theft Auto: Vice City   \n",
       "3  /games/boxart/full_9218923AmericaFrontccc.jpg           Grand Theft Auto V   \n",
       "4  /games/boxart/full_4990510AmericaFrontccc.jpg    Call of Duty: Black Ops 3   \n",
       "\n",
       "  console    genre       publisher       developer  critic_score  total_sales  \\\n",
       "0     PS3   Action  Rockstar Games  Rockstar North           9.4        20.32   \n",
       "1     PS4   Action  Rockstar Games  Rockstar North           9.7        19.39   \n",
       "2     PS2   Action  Rockstar Games  Rockstar North           9.6        16.15   \n",
       "3    X360   Action  Rockstar Games  Rockstar North           NaN        15.86   \n",
       "4     PS4  Shooter      Activision        Treyarch           8.1        15.09   \n",
       "\n",
       "   na_sales  jp_sales  pal_sales  other_sales release_date last_update  \n",
       "0      6.37      0.99       9.85         3.12   2013-09-17         NaN  \n",
       "1      6.06      0.60       9.71         3.02   2014-11-18  2018-01-03  \n",
       "2      8.41      0.47       5.49         1.78   2002-10-28         NaN  \n",
       "3      9.06      0.06       5.33         1.42   2013-09-17         NaN  \n",
       "4      6.18      0.41       6.05         2.44   2015-11-06  2018-01-14  "
      ]
     },
     "execution_count": 73,
     "metadata": {},
     "output_type": "execute_result"
    }
   ],
   "source": [
    "df.head()"
   ]
  },
  {
   "cell_type": "markdown",
   "id": "95c637d4-6d35-46bb-9fec-9d9e4f18dbfd",
   "metadata": {},
   "source": [
    "## Filtrado de datos"
   ]
  },
  {
   "cell_type": "code",
   "execution_count": 92,
   "id": "0634cc9b-968e-4865-9fb6-6c46decfc01f",
   "metadata": {
    "scrolled": true
   },
   "outputs": [],
   "source": [
    " df = df[df[\"developer\"] == \"Treyarch\"] "
   ]
  },
  {
   "cell_type": "markdown",
   "id": "b3585db5-a99c-4504-9d69-3afa398313de",
   "metadata": {},
   "source": [
    "## Modificación de Datos"
   ]
  },
  {
   "cell_type": "code",
   "execution_count": 94,
   "id": "8352fed8-fe4d-403c-8103-dfb532a89ada",
   "metadata": {},
   "outputs": [
    {
     "data": {
      "text/html": [
       "<div>\n",
       "<style scoped>\n",
       "    .dataframe tbody tr th:only-of-type {\n",
       "        vertical-align: middle;\n",
       "    }\n",
       "\n",
       "    .dataframe tbody tr th {\n",
       "        vertical-align: top;\n",
       "    }\n",
       "\n",
       "    .dataframe thead th {\n",
       "        text-align: right;\n",
       "    }\n",
       "</style>\n",
       "<table border=\"1\" class=\"dataframe\">\n",
       "  <thead>\n",
       "    <tr style=\"text-align: right;\">\n",
       "      <th></th>\n",
       "      <th>title</th>\n",
       "      <th>console</th>\n",
       "      <th>genre</th>\n",
       "      <th>publisher</th>\n",
       "      <th>developer</th>\n",
       "      <th>critic_score</th>\n",
       "      <th>total_sales</th>\n",
       "      <th>na_sales</th>\n",
       "      <th>release_date</th>\n",
       "      <th>last_update</th>\n",
       "    </tr>\n",
       "  </thead>\n",
       "  <tbody>\n",
       "    <tr>\n",
       "      <th>9</th>\n",
       "      <td>Call of Duty: Black Ops II</td>\n",
       "      <td>PS3</td>\n",
       "      <td>Shooter</td>\n",
       "      <td>Activision</td>\n",
       "      <td>Treyarch</td>\n",
       "      <td>8.0</td>\n",
       "      <td>13.80</td>\n",
       "      <td>4.99</td>\n",
       "      <td>2012-11-13</td>\n",
       "      <td>2018-04-07</td>\n",
       "    </tr>\n",
       "    <tr>\n",
       "      <th>8</th>\n",
       "      <td>Call of Duty: Black Ops II</td>\n",
       "      <td>X360</td>\n",
       "      <td>Shooter</td>\n",
       "      <td>Activision</td>\n",
       "      <td>Treyarch</td>\n",
       "      <td>8.4</td>\n",
       "      <td>13.86</td>\n",
       "      <td>8.27</td>\n",
       "      <td>2012-11-13</td>\n",
       "      <td>2018-04-07</td>\n",
       "    </tr>\n",
       "    <tr>\n",
       "      <th>3983</th>\n",
       "      <td>Call of Duty: Black Ops II</td>\n",
       "      <td>WiiU</td>\n",
       "      <td>Shooter</td>\n",
       "      <td>Activision</td>\n",
       "      <td>Treyarch</td>\n",
       "      <td>8.6</td>\n",
       "      <td>0.42</td>\n",
       "      <td>0.20</td>\n",
       "      <td>2012-11-18</td>\n",
       "      <td>2018-01-05</td>\n",
       "    </tr>\n",
       "    <tr>\n",
       "      <th>4</th>\n",
       "      <td>Call of Duty: Black Ops 3</td>\n",
       "      <td>PS4</td>\n",
       "      <td>Shooter</td>\n",
       "      <td>Activision</td>\n",
       "      <td>Treyarch</td>\n",
       "      <td>8.1</td>\n",
       "      <td>15.09</td>\n",
       "      <td>6.18</td>\n",
       "      <td>2015-11-06</td>\n",
       "      <td>2018-01-14</td>\n",
       "    </tr>\n",
       "  </tbody>\n",
       "</table>\n",
       "</div>"
      ],
      "text/plain": [
       "                           title console    genre   publisher developer  \\\n",
       "9     Call of Duty: Black Ops II     PS3  Shooter  Activision  Treyarch   \n",
       "8     Call of Duty: Black Ops II    X360  Shooter  Activision  Treyarch   \n",
       "3983  Call of Duty: Black Ops II    WiiU  Shooter  Activision  Treyarch   \n",
       "4      Call of Duty: Black Ops 3     PS4  Shooter  Activision  Treyarch   \n",
       "\n",
       "      critic_score  total_sales  na_sales release_date last_update  \n",
       "9              8.0        13.80      4.99   2012-11-13  2018-04-07  \n",
       "8              8.4        13.86      8.27   2012-11-13  2018-04-07  \n",
       "3983           8.6         0.42      0.20   2012-11-18  2018-01-05  \n",
       "4              8.1        15.09      6.18   2015-11-06  2018-01-14  "
      ]
     },
     "execution_count": 94,
     "metadata": {},
     "output_type": "execute_result"
    }
   ],
   "source": [
    "df.drop(columns=[\"img\", \"jp_sales\", \"pal_sales\", \"other_sales\"], inplace=True, errors='ignore')\n",
    "df"
   ]
  },
  {
   "cell_type": "markdown",
   "id": "373dc916-6c0e-4061-8354-dabd18ab8ce9",
   "metadata": {},
   "source": [
    "### Manejo de valores Nulos"
   ]
  },
  {
   "cell_type": "code",
   "execution_count": 95,
   "id": "ff1be1b4-8192-44e4-9f3a-f82eea7ec255",
   "metadata": {},
   "outputs": [],
   "source": [
    "df.isnull().sum()  # Contar valores nulos por columna\n",
    "df.dropna(inplace=True)  # Eliminar filas con valores nulos\n",
    "df.fillna(\"Desconocido\", inplace=True)  # Rellenar valores nulos"
   ]
  },
  {
   "cell_type": "code",
   "execution_count": 96,
   "id": "b03a95be-3143-4520-a666-8eec8e3331bf",
   "metadata": {},
   "outputs": [
    {
     "data": {
      "text/html": [
       "<div>\n",
       "<style scoped>\n",
       "    .dataframe tbody tr th:only-of-type {\n",
       "        vertical-align: middle;\n",
       "    }\n",
       "\n",
       "    .dataframe tbody tr th {\n",
       "        vertical-align: top;\n",
       "    }\n",
       "\n",
       "    .dataframe thead th {\n",
       "        text-align: right;\n",
       "    }\n",
       "</style>\n",
       "<table border=\"1\" class=\"dataframe\">\n",
       "  <thead>\n",
       "    <tr style=\"text-align: right;\">\n",
       "      <th></th>\n",
       "      <th>title</th>\n",
       "      <th>console</th>\n",
       "      <th>genre</th>\n",
       "      <th>publisher</th>\n",
       "      <th>developer</th>\n",
       "      <th>critic_score</th>\n",
       "      <th>total_sales</th>\n",
       "      <th>na_sales</th>\n",
       "      <th>release_date</th>\n",
       "      <th>last_update</th>\n",
       "    </tr>\n",
       "  </thead>\n",
       "  <tbody>\n",
       "    <tr>\n",
       "      <th>9</th>\n",
       "      <td>Call of Duty: Black Ops II</td>\n",
       "      <td>PS3</td>\n",
       "      <td>Shooter</td>\n",
       "      <td>Activision</td>\n",
       "      <td>Treyarch</td>\n",
       "      <td>8.0</td>\n",
       "      <td>13.80</td>\n",
       "      <td>4.99</td>\n",
       "      <td>2012-11-13</td>\n",
       "      <td>2018-04-07</td>\n",
       "    </tr>\n",
       "    <tr>\n",
       "      <th>8</th>\n",
       "      <td>Call of Duty: Black Ops II</td>\n",
       "      <td>X360</td>\n",
       "      <td>Shooter</td>\n",
       "      <td>Activision</td>\n",
       "      <td>Treyarch</td>\n",
       "      <td>8.4</td>\n",
       "      <td>13.86</td>\n",
       "      <td>8.27</td>\n",
       "      <td>2012-11-13</td>\n",
       "      <td>2018-04-07</td>\n",
       "    </tr>\n",
       "    <tr>\n",
       "      <th>3983</th>\n",
       "      <td>Call of Duty: Black Ops II</td>\n",
       "      <td>WiiU</td>\n",
       "      <td>Shooter</td>\n",
       "      <td>Activision</td>\n",
       "      <td>Treyarch</td>\n",
       "      <td>8.6</td>\n",
       "      <td>0.42</td>\n",
       "      <td>0.20</td>\n",
       "      <td>2012-11-18</td>\n",
       "      <td>2018-01-05</td>\n",
       "    </tr>\n",
       "    <tr>\n",
       "      <th>4</th>\n",
       "      <td>Call of Duty: Black Ops 3</td>\n",
       "      <td>PS4</td>\n",
       "      <td>Shooter</td>\n",
       "      <td>Activision</td>\n",
       "      <td>Treyarch</td>\n",
       "      <td>8.1</td>\n",
       "      <td>15.09</td>\n",
       "      <td>6.18</td>\n",
       "      <td>2015-11-06</td>\n",
       "      <td>2018-01-14</td>\n",
       "    </tr>\n",
       "  </tbody>\n",
       "</table>\n",
       "</div>"
      ],
      "text/plain": [
       "                           title console    genre   publisher developer  \\\n",
       "9     Call of Duty: Black Ops II     PS3  Shooter  Activision  Treyarch   \n",
       "8     Call of Duty: Black Ops II    X360  Shooter  Activision  Treyarch   \n",
       "3983  Call of Duty: Black Ops II    WiiU  Shooter  Activision  Treyarch   \n",
       "4      Call of Duty: Black Ops 3     PS4  Shooter  Activision  Treyarch   \n",
       "\n",
       "      critic_score  total_sales  na_sales release_date last_update  \n",
       "9              8.0        13.80      4.99   2012-11-13  2018-04-07  \n",
       "8              8.4        13.86      8.27   2012-11-13  2018-04-07  \n",
       "3983           8.6         0.42      0.20   2012-11-18  2018-01-05  \n",
       "4              8.1        15.09      6.18   2015-11-06  2018-01-14  "
      ]
     },
     "execution_count": 96,
     "metadata": {},
     "output_type": "execute_result"
    }
   ],
   "source": [
    "df"
   ]
  },
  {
   "cell_type": "markdown",
   "id": "542df8c0-5b8e-4e5b-8524-d989902282ed",
   "metadata": {},
   "source": [
    "### Operaciones Estadisticas"
   ]
  },
  {
   "cell_type": "code",
   "execution_count": 98,
   "id": "8627bee3-dcfd-438c-a106-4432f640d19d",
   "metadata": {},
   "outputs": [
    {
     "data": {
      "text/plain": [
       "6.940506105465221"
      ]
     },
     "execution_count": 98,
     "metadata": {},
     "output_type": "execute_result"
    }
   ],
   "source": [
    "df[\"total_sales\"].mean()  # Promedio\n",
    "df[\"total_sales\"].sum()   # Suma total\n",
    "df[\"total_sales\"].min()   # Mínimo\n",
    "df[\"total_sales\"].max()   # Máximo\n",
    "df[\"total_sales\"].std()   # Desviación estándar"
   ]
  },
  {
   "cell_type": "markdown",
   "id": "64bf234a-7cc2-401a-944c-2b3776ef9f16",
   "metadata": {},
   "source": [
    "## Operaciones Estadisticas"
   ]
  },
  {
   "cell_type": "markdown",
   "id": "b2390329-0f8f-4815-8f57-563d2f52bdbb",
   "metadata": {},
   "source": [
    "### Agrupación de Datos"
   ]
  },
  {
   "cell_type": "code",
   "execution_count": 101,
   "id": "a68f3e9c-6625-40d8-af9e-e7c28c2fa93d",
   "metadata": {},
   "outputs": [
    {
     "data": {
      "text/plain": [
       "publisher\n",
       "Activision    8.275\n",
       "Name: critic_score, dtype: float64"
      ]
     },
     "execution_count": 101,
     "metadata": {},
     "output_type": "execute_result"
    }
   ],
   "source": [
    "df.groupby(\"publisher\")[\"critic_score\"].mean()  # Promedio de score por empresa"
   ]
  },
  {
   "cell_type": "markdown",
   "id": "68ae3dca-4997-44b3-9176-2fac92a1add3",
   "metadata": {},
   "source": [
    "### Ordenar valores"
   ]
  },
  {
   "cell_type": "code",
   "execution_count": 103,
   "id": "6889e02f-17ca-48c2-945c-2479d053d04e",
   "metadata": {},
   "outputs": [
    {
     "data": {
      "text/html": [
       "<div>\n",
       "<style scoped>\n",
       "    .dataframe tbody tr th:only-of-type {\n",
       "        vertical-align: middle;\n",
       "    }\n",
       "\n",
       "    .dataframe tbody tr th {\n",
       "        vertical-align: top;\n",
       "    }\n",
       "\n",
       "    .dataframe thead th {\n",
       "        text-align: right;\n",
       "    }\n",
       "</style>\n",
       "<table border=\"1\" class=\"dataframe\">\n",
       "  <thead>\n",
       "    <tr style=\"text-align: right;\">\n",
       "      <th></th>\n",
       "      <th>title</th>\n",
       "      <th>console</th>\n",
       "      <th>genre</th>\n",
       "      <th>publisher</th>\n",
       "      <th>developer</th>\n",
       "      <th>critic_score</th>\n",
       "      <th>total_sales</th>\n",
       "      <th>na_sales</th>\n",
       "      <th>release_date</th>\n",
       "      <th>last_update</th>\n",
       "    </tr>\n",
       "  </thead>\n",
       "  <tbody>\n",
       "    <tr>\n",
       "      <th>4</th>\n",
       "      <td>Call of Duty: Black Ops 3</td>\n",
       "      <td>PS4</td>\n",
       "      <td>Shooter</td>\n",
       "      <td>Activision</td>\n",
       "      <td>Treyarch</td>\n",
       "      <td>8.1</td>\n",
       "      <td>15.09</td>\n",
       "      <td>6.18</td>\n",
       "      <td>2015-11-06</td>\n",
       "      <td>2018-01-14</td>\n",
       "    </tr>\n",
       "    <tr>\n",
       "      <th>3983</th>\n",
       "      <td>Call of Duty: Black Ops II</td>\n",
       "      <td>WiiU</td>\n",
       "      <td>Shooter</td>\n",
       "      <td>Activision</td>\n",
       "      <td>Treyarch</td>\n",
       "      <td>8.6</td>\n",
       "      <td>0.42</td>\n",
       "      <td>0.20</td>\n",
       "      <td>2012-11-18</td>\n",
       "      <td>2018-01-05</td>\n",
       "    </tr>\n",
       "    <tr>\n",
       "      <th>9</th>\n",
       "      <td>Call of Duty: Black Ops II</td>\n",
       "      <td>PS3</td>\n",
       "      <td>Shooter</td>\n",
       "      <td>Activision</td>\n",
       "      <td>Treyarch</td>\n",
       "      <td>8.0</td>\n",
       "      <td>13.80</td>\n",
       "      <td>4.99</td>\n",
       "      <td>2012-11-13</td>\n",
       "      <td>2018-04-07</td>\n",
       "    </tr>\n",
       "    <tr>\n",
       "      <th>8</th>\n",
       "      <td>Call of Duty: Black Ops II</td>\n",
       "      <td>X360</td>\n",
       "      <td>Shooter</td>\n",
       "      <td>Activision</td>\n",
       "      <td>Treyarch</td>\n",
       "      <td>8.4</td>\n",
       "      <td>13.86</td>\n",
       "      <td>8.27</td>\n",
       "      <td>2012-11-13</td>\n",
       "      <td>2018-04-07</td>\n",
       "    </tr>\n",
       "  </tbody>\n",
       "</table>\n",
       "</div>"
      ],
      "text/plain": [
       "                           title console    genre   publisher developer  \\\n",
       "4      Call of Duty: Black Ops 3     PS4  Shooter  Activision  Treyarch   \n",
       "3983  Call of Duty: Black Ops II    WiiU  Shooter  Activision  Treyarch   \n",
       "9     Call of Duty: Black Ops II     PS3  Shooter  Activision  Treyarch   \n",
       "8     Call of Duty: Black Ops II    X360  Shooter  Activision  Treyarch   \n",
       "\n",
       "      critic_score  total_sales  na_sales release_date last_update  \n",
       "4              8.1        15.09      6.18   2015-11-06  2018-01-14  \n",
       "3983           8.6         0.42      0.20   2012-11-18  2018-01-05  \n",
       "9              8.0        13.80      4.99   2012-11-13  2018-04-07  \n",
       "8              8.4        13.86      8.27   2012-11-13  2018-04-07  "
      ]
     },
     "execution_count": 103,
     "metadata": {},
     "output_type": "execute_result"
    }
   ],
   "source": [
    "df.sort_values(by=\"release_date\", ascending=False, inplace=True)\n",
    "df"
   ]
  },
  {
   "cell_type": "code",
   "execution_count": null,
   "id": "11b2ca77-f2c0-4e59-8439-e4a924914d65",
   "metadata": {},
   "outputs": [],
   "source": []
  }
 ],
 "metadata": {
  "kernelspec": {
   "display_name": "Python 3 (ipykernel)",
   "language": "python",
   "name": "python3"
  },
  "language_info": {
   "codemirror_mode": {
    "name": "ipython",
    "version": 3
   },
   "file_extension": ".py",
   "mimetype": "text/x-python",
   "name": "python",
   "nbconvert_exporter": "python",
   "pygments_lexer": "ipython3",
   "version": "3.12.7"
  }
 },
 "nbformat": 4,
 "nbformat_minor": 5
}
